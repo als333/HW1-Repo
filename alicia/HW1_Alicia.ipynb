{
 "cells": [
  {
   "cell_type": "code",
   "execution_count": 4,
   "metadata": {
    "collapsed": true
   },
   "outputs": [],
   "source": [
    "# Alicia Sigmon, als333@pitt.edu, 9/2/2017\n",
    "\n",
    "# Corpus: Pros and Cons\n",
    "# Author: Bing Luu\n",
    "# https://raw.githubusercontent.com/nltk/nltk_data/gh-pages/packages/corpora/pros_cons.zip\n",
    "# size: 746276, 2 txt files: 1381 KB and 1471 KB\n",
    "# format: corpus (2 files)\n",
    "# License: Creative Commons Attribution 4.0 International\n",
    "# The corpus's 2 files are of positive and negative reviews of technology products"
   ]
  },
  {
   "cell_type": "code",
   "execution_count": 5,
   "metadata": {
    "collapsed": true
   },
   "outputs": [],
   "source": [
    "# 3. a. Summary of code, how you addressed the \"discovery\"\n",
    "# 3. b. Future wish"
   ]
  },
  {
   "cell_type": "code",
   "execution_count": 71,
   "metadata": {},
   "outputs": [],
   "source": [
    "# Reading \n",
    "file = open(\"data/IntegratedCons.txt\")\n",
    "constxt = file.read()\n",
    "file.close()\n",
    "\n",
    "file = open(\"data/IntegratedPros.txt\")\n",
    "prostxt = file.read()\n",
    "file.close()"
   ]
  },
  {
   "cell_type": "code",
   "execution_count": 72,
   "metadata": {},
   "outputs": [
    {
     "name": "stdout",
     "output_type": "stream",
     "text": [
      "        <Cons>East batteries! On-off switch too easy to maneuver.</Cons>\n",
      "        <Cons>Eats...no, GULPS batteries</Cons>\n",
      "        <Cons>Awkward ergonomics, no optical viewfinder, short battery life, sl\n",
      "        <Pros>Easy to use, economical!</Pros>\n",
      "        <Pros>Digital is where it's at...down with developing film!</Pros>\n",
      "        <Pros>Good image quality, 3x optical zoom, macro mode, inexpensive</Pro\n"
     ]
    }
   ],
   "source": [
    "print(constxt[:200])\n",
    "print(prostxt[:200])"
   ]
  },
  {
   "cell_type": "code",
   "execution_count": 85,
   "metadata": {},
   "outputs": [],
   "source": [
    "# Basic Stats\n",
    "\n",
    "#nltk.download()\n",
    "import nltk\n",
    "\n",
    "#Number of files\n",
    "\n",
    "#Splits the files by entry\n",
    "cons_split = constxt.replace(\"<Cons>\", \"\").split(\"</Cons>\\n\")\n",
    "pros_split = prostxt.replace(\"<Pros>\", \"\").split(\"</Pros>\\n\")\n",
    "\n",
    "#Removes the beginning and end markers of the entries for further anaylses\n",
    "new_constxt = constxt.replace(\"<Cons>\", \"\").replace(\"</Cons>\\n\", \"\")\n",
    "new_prostxt = prostxt.replace(\"<Pros>\", \"\").replace(\"</Pros>\\n\", \"\")\n",
    "\n",
    "# These include many things that are not words or not sentences\n",
    "    # Is there a way to fix this when there are so many typos / missing punctuation?\n",
    "contoks = nltk.word_tokenize(new_constxt)\n",
    "contypes = sorted(set(contoks))\n",
    "consenttoks = nltk.sent_tokenize(new_constxt)\n",
    "protoks = nltk.word_tokenize(new_prostxt)\n",
    "protypes = sorted(set(protoks))\n",
    "prosenttoks = nltk.sent_tokenize(new_prostxt)"
   ]
  },
  {
   "cell_type": "code",
   "execution_count": 89,
   "metadata": {},
   "outputs": [
    {
     "name": "stdout",
     "output_type": "stream",
     "text": [
      "There are 22936 negative entries.\n",
      "There are 22941 positive entries.\n",
      "\n",
      "There are 185677 negative word tokens.\n",
      "There are 17175 negative word types.\n",
      "There are 185677 negative sentence tokens.\n",
      "\n",
      "There are 206175 positive word tokens.\n",
      "There are 15044 positive word types.\n",
      "There are 206175 positive sentence tokens.\n"
     ]
    }
   ],
   "source": [
    "#Printing basic stats from above \n",
    "print(\"There are \" + str(len(cons_split)) + \" negative entries.\")\n",
    "print(\"There are \" + str(len(pros_split)) + \" positive entries.\\n\")\n",
    "print(\"There are \" + str(len(contoks)) + \" negative word tokens.\")\n",
    "print(\"There are \" + str(len(contypes)) + \" negative word types.\")\n",
    "print(\"There are \" + str(len(contoks)) + \" negative sentence tokens.\\n\")\n",
    "print(\"There are \" + str(len(protoks)) + \" positive word tokens.\")\n",
    "print(\"There are \" + str(len(protypes)) + \" positive word types.\")\n",
    "print(\"There are \" + str(len(protoks)) + \" positive sentence tokens.\")"
   ]
  },
  {
   "cell_type": "code",
   "execution_count": null,
   "metadata": {},
   "outputs": [],
   "source": []
  },
  {
   "cell_type": "code",
   "execution_count": null,
   "metadata": {
    "collapsed": true
   },
   "outputs": [],
   "source": []
  }
 ],
 "metadata": {
  "kernelspec": {
   "display_name": "Python 3",
   "language": "python",
   "name": "python3"
  },
  "language_info": {
   "codemirror_mode": {
    "name": "ipython",
    "version": 3
   },
   "file_extension": ".py",
   "mimetype": "text/x-python",
   "name": "python",
   "nbconvert_exporter": "python",
   "pygments_lexer": "ipython3",
   "version": "3.6.1"
  }
 },
 "nbformat": 4,
 "nbformat_minor": 2
}
