{
 "cells": [
  {
   "cell_type": "code",
   "execution_count": 4,
   "metadata": {
    "collapsed": true
   },
   "outputs": [],
   "source": [
    "# Alicia Sigmon, als333@pitt.edu, 9/2/2017\n",
    "\n",
    "# Corpus: Pros and Cons\n",
    "# Author: Bing Luu\n",
    "# https://raw.githubusercontent.com/nltk/nltk_data/gh-pages/packages/corpora/pros_cons.zip\n",
    "# size: 746276, 2 txt files: 1381 KB and 1471 KB\n",
    "# format: corpus (2 files)\n",
    "# License: Creative Commons Attribution 4.0 International\n",
    "# The corpus's 2 files are of positive and negative reviews of technology products"
   ]
  },
  {
   "cell_type": "code",
   "execution_count": 5,
   "metadata": {
    "collapsed": true
   },
   "outputs": [],
   "source": [
    "# 3. a. Summary of code, how you addressed the \"discovery\"\n",
    "# 3. b. Future wish"
   ]
  },
  {
   "cell_type": "code",
   "execution_count": 17,
   "metadata": {},
   "outputs": [],
   "source": [
    "# Reading \n",
    "file = open(\"data/IntegratedCons.txt\")\n",
    "constxt = file.read()\n",
    "file.close()\n",
    "\n",
    "file = open(\"data/IntegratedPros.txt\")\n",
    "prostxt = file.read()\n",
    "file.close()"
   ]
  },
  {
   "cell_type": "code",
   "execution_count": 15,
   "metadata": {},
   "outputs": [
    {
     "name": "stdout",
     "output_type": "stream",
     "text": [
      "        <Cons>East batteries! On-off switch too easy to maneuver.</Cons>\n",
      "        <Cons>Eats...no, GULPS batteries</Cons>\n",
      "        <Cons>Awkward ergonomics, no optical viewfinder, short battery life, sl\n",
      "        <Pros>Easy to use, economical!</Pros>\n",
      "        <Pros>Digital is where it's at...down with developing film!</Pros>\n",
      "        <Pros>Good image quality, 3x optical zoom, macro mode, inexpensive</Pro\n"
     ]
    }
   ],
   "source": [
    "print(constxt[:200])\n",
    "print(prostxt[:200])"
   ]
  },
  {
   "cell_type": "code",
   "execution_count": 61,
   "metadata": {},
   "outputs": [
    {
     "name": "stdout",
     "output_type": "stream",
     "text": [
      "['        East batteries! On-off switch too easy to maneuver.', '        Eats...no, GULPS batteries', '        Awkward ergonomics, no optical viewfinder, short battery life, slow, gets hot', '        Battery eating beast/slow to recharge', '        power runs out before pictures do', '        Slow, high battery consumption rate.', '        image size and quality', '        Memory too small, slow charge between shots.', '        Case design, included software', '        No Optical Viewfinder, No Carry Case']\n",
      "There are 22936 negative entries.\n",
      "['        Easy to use, economical!', \"        Digital is where it's at...down with developing film!\", '        Good image quality, 3x optical zoom, macro mode, inexpensive', '        Awesome features/easy to use/fun/versatile/low price/Cust SVS 2nd 2 none!', '        intuitive, user friendly', '        Simple, Flexable, Reliable', '        battery life, download speed', '        Agfa quality in a small box, great for table top and tests', '        Image quality, price, video link', '        No Extras to Buy, Very Flexible, High Quality Images, Good Software']\n",
      "There are 22941 positive entries.\n"
     ]
    }
   ],
   "source": [
    "# Basic Stats:\n",
    "#nltk.download()\n",
    "import nltk\n",
    "contoks = nltk.word_tokenize(constxt)\n",
    "contypes = sorted(set(contoks))\n",
    "consenttoks = nltk.sent_tokenize(constxt)\n",
    "\n",
    "cons_split = constxt.replace(\"<Cons>\", \"\").split(\"</Cons>\\n\")\n",
    "print(\"There are \" + str(len(cons_split)) + \" negative entries.\")\n",
    "\n",
    "pros_split = prostxt.replace(\"<Pros>\", \"\").split(\"</Pros>\\n\")\n",
    "print(\"There are \" + str(len(pros_split)) + \" positive entries.\")"
   ]
  },
  {
   "cell_type": "code",
   "execution_count": 47,
   "metadata": {},
   "outputs": [
    {
     "name": "stdout",
     "output_type": "stream",
     "text": [
      "['>', 'Malfunctioned', 'twice', ',', 'goes', 'quickly', 'through', 'batteries', '<', '/Cons', '>', '<', 'Cons', '>', 'battery', 'cost', 'a', 'little', 'high', '<', '/Cons', '>', '<', 'Cons', '>']\n",
      "['Bluetooth/IR', 'Bluish', 'Blurred', 'Blurring', 'Blurry', 'Blurs', 'Board', 'Body', 'Bones', 'Book', 'Boot', 'Boot-up', 'Borderless', 'Boring', 'Boss', 'Both', 'Bottom', 'Box', 'Boxy', 'Boy', 'Brain', 'Brakes', 'Brand', 'Break', 'Breakable']\n",
      "['        <Cons>East batteries!', \"On-off switch too easy to maneuver.</Cons>\\n        <Cons>Eats...no, GULPS batteries</Cons>\\n        <Cons>Awkward ergonomics, no optical viewfinder, short battery life, slow, gets hot</Cons>\\n        <Cons>Battery eating beast/slow to recharge</Cons>\\n        <Cons>power runs out before pictures do</Cons>\\n        <Cons>Slow, high battery consumption rate.</Cons>\\n        <Cons>image size and quality</Cons>\\n        <Cons>Memory too small, slow charge between shots.</Cons>\\n        <Cons>Case design, included software</Cons>\\n        <Cons>No Optical Viewfinder, No Carry Case</Cons>\\n        <Cons>poor image quality, flash that thinks it's &amp;quot;intelligent,&amp;quot; awkward to handle.</Cons>\\n        <Cons>I haven't discovered any!</Cons>\\n        <Cons>That little on/off switch sucks</Cons>\\n        <Cons>Low light photography, blinding flash</Cons>\\n        <Cons>a little expensive, but it's worth it</Cons>\\n        <Cons>Poor picture quality</Cons>\\n        <Cons>Can only hold so many options, the software is lacking in options</Cons>\\n        <Cons>Pics can sometimes be a bit yellowish</Cons>\\n        <Cons>It needs reliable batteries, not cheap ones.</Cons>\\n        <Cons>Low battery life, Smart Media not as popular as Compact Flash</Cons>\\n        <Cons>hard to see view screen, hard to find</Cons>\\n        <Cons>Maybe the price could be 400 dollars.</Cons>\\n        <Cons>None that I've found</Cons>\\n        <Cons>battery life</Cons>\\n        <Cons>Short battery life</Cons>\\n        <Cons>Takes a second or two to actually take the picture after the button is pushed, eats batteries.\"]\n",
      "326904\n",
      "13200\n",
      "2828\n"
     ]
    }
   ],
   "source": [
    "\n",
    "print(contoks[1000:1025])\n",
    "print(contypes[1000:1025])\n",
    "print(consenttoks[:2])\n",
    "print(len(contoks))\n",
    "print(len(contypes))\n",
    "print(len(consenttoks))"
   ]
  },
  {
   "cell_type": "code",
   "execution_count": null,
   "metadata": {
    "collapsed": true
   },
   "outputs": [],
   "source": []
  }
 ],
 "metadata": {
  "kernelspec": {
   "display_name": "Python 3",
   "language": "python",
   "name": "python3"
  },
  "language_info": {
   "codemirror_mode": {
    "name": "ipython",
    "version": 3
   },
   "file_extension": ".py",
   "mimetype": "text/x-python",
   "name": "python",
   "nbconvert_exporter": "python",
   "pygments_lexer": "ipython3",
   "version": "3.6.1"
  }
 },
 "nbformat": 4,
 "nbformat_minor": 2
}
