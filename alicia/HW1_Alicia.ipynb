{
 "cells": [
  {
   "cell_type": "code",
   "execution_count": 4,
   "metadata": {
    "collapsed": true
   },
   "outputs": [],
   "source": [
    "# Alicia Sigmon, als333@pitt.edu, 9/2/2017\n",
    "\n",
    "# Corpus: Pros and Cons\n",
    "# Author: Bing Luu\n",
    "# https://raw.githubusercontent.com/nltk/nltk_data/gh-pages/packages/corpora/pros_cons.zip\n",
    "# size: 746276, 2 txt files: 1381 KB and 1471 KB\n",
    "# format: corpus (2 files)\n",
    "# License: Creative Commons Attribution 4.0 International\n",
    "# The corpus's 2 files are of positive and negative reviews of technology products"
   ]
  },
  {
   "cell_type": "code",
   "execution_count": 5,
   "metadata": {
    "collapsed": true
   },
   "outputs": [],
   "source": [
    "# 3. a. Summary of code, how you addressed the \"discovery\"\n",
    "# 3. b. Future wish"
   ]
  },
  {
   "cell_type": "code",
   "execution_count": 71,
   "metadata": {},
   "outputs": [],
   "source": [
    "# Reading \n",
    "file = open(\"data/IntegratedCons.txt\")\n",
    "constxt = file.read()\n",
    "file.close()\n",
    "\n",
    "file = open(\"data/IntegratedPros.txt\")\n",
    "prostxt = file.read()\n",
    "file.close()"
   ]
  },
  {
   "cell_type": "code",
   "execution_count": 72,
   "metadata": {},
   "outputs": [
    {
     "name": "stdout",
     "output_type": "stream",
     "text": [
      "        <Cons>East batteries! On-off switch too easy to maneuver.</Cons>\n",
      "        <Cons>Eats...no, GULPS batteries</Cons>\n",
      "        <Cons>Awkward ergonomics, no optical viewfinder, short battery life, sl\n",
      "        <Pros>Easy to use, economical!</Pros>\n",
      "        <Pros>Digital is where it's at...down with developing film!</Pros>\n",
      "        <Pros>Good image quality, 3x optical zoom, macro mode, inexpensive</Pro\n"
     ]
    }
   ],
   "source": [
    "print(constxt[:200])\n",
    "print(prostxt[:200])"
   ]
  },
  {
   "cell_type": "code",
   "execution_count": 123,
   "metadata": {},
   "outputs": [],
   "source": [
    "# Basic Stats\n",
    "\n",
    "#nltk.download()\n",
    "import nltk\n",
    "\n",
    "#Number of files???\n",
    "\n",
    "#Splits the files by entry\n",
    "cons_split = constxt.replace(\"<Cons>\", \"\").split(\"</Cons>\\n\")\n",
    "pros_split = prostxt.replace(\"<Pros>\", \"\").split(\"</Pros>\\n\")\n",
    "\n",
    "#Removes the beginning and end markers of the entries for further anaylses\n",
    "new_constxt = constxt.replace(\"<Cons>\", \"\").replace(\"</Cons>\\n\", \"\")\n",
    "new_prostxt = prostxt.replace(\"<Pros>\", \"\").replace(\"</Pros>\\n\", \"\")\n",
    "\n",
    "# These include many things that are not words or not sentences\n",
    "    # Is there a way to fix this when there are so many typos / missing punctuation?\n",
    "contoks = nltk.word_tokenize(new_constxt.lower())\n",
    "contypes = sorted(set(contoks))\n",
    "consenttoks = nltk.sent_tokenize(new_constxt)\n",
    "protoks = nltk.word_tokenize(new_prostxt.lower())\n",
    "protypes = sorted(set(protoks))\n",
    "prosenttoks = nltk.sent_tokenize(new_prostxt)"
   ]
  },
  {
   "cell_type": "code",
   "execution_count": 143,
   "metadata": {},
   "outputs": [
    {
     "name": "stdout",
     "output_type": "stream",
     "text": [
      "There are 22936 con entries.\n",
      "There are 22941 pro entries.\n",
      "\n",
      "There are 185655 con word tokens.\n",
      "There are 14487 con word types.\n",
      "There are 185655 con sentence tokens.\n",
      "\n",
      "There are 206167 pro word tokens.\n",
      "There are 12350 pro word types.\n",
      "There are 206167 pro sentence tokens.\n"
     ]
    }
   ],
   "source": [
    "#Printing basic stats from above \n",
    "print(\"There are \" + str(len(cons_split)) + \" con entries.\")\n",
    "print(\"There are \" + str(len(pros_split)) + \" pro entries.\\n\")\n",
    "print(\"There are \" + str(len(contoks)) + \" con word tokens.\")\n",
    "print(\"There are \" + str(len(contypes)) + \" con word types.\")\n",
    "print(\"There are \" + str(len(contoks)) + \" con sentence tokens.\\n\")\n",
    "print(\"There are \" + str(len(protoks)) + \" pro word tokens.\")\n",
    "print(\"There are \" + str(len(protypes)) + \" pro word types.\")\n",
    "print(\"There are \" + str(len(protoks)) + \" pro sentence tokens.\")"
   ]
  },
  {
   "cell_type": "code",
   "execution_count": 125,
   "metadata": {},
   "outputs": [],
   "source": [
    "# Discovery\n",
    "\n",
    "#Takes the tokens and creates a frequency dictionary\n",
    "conFreq = nltk.FreqDist(contoks)\n",
    "proFreq = nltk.FreqDist(protoks)"
   ]
  },
  {
   "cell_type": "code",
   "execution_count": 142,
   "metadata": {},
   "outputs": [
    {
     "name": "stdout",
     "output_type": "stream",
     "text": [
      "Top 20 Negative Words:\n",
      "(',', 14205)\n",
      "('.', 5763)\n",
      "('to', 3472)\n",
      "('a', 2925)\n",
      "('no', 2675)\n",
      "('not', 2633)\n",
      "('the', 2555)\n",
      "('battery', 2269)\n",
      "('is', 2196)\n",
      "('and', 2081)\n",
      "(';', 1966)\n",
      "('of', 1848)\n",
      "('!', 1575)\n",
      "('for', 1490)\n",
      "('life', 1484)\n",
      "(\"n't\", 1472)\n",
      "('slow', 1335)\n",
      "('in', 1298)\n",
      "('quality', 1241)\n",
      "('it', 1108)\n",
      "\n",
      "Top 20 Positive Words:\n",
      "(',', 32632)\n",
      "('.', 5739)\n",
      "('to', 5196)\n",
      "('quality', 5120)\n",
      "('easy', 4516)\n",
      "('and', 4490)\n",
      "('great', 4209)\n",
      "('use', 4071)\n",
      "('good', 3644)\n",
      "(';', 3154)\n",
      "('of', 2742)\n",
      "('price', 1985)\n",
      "('!', 1838)\n",
      "('features', 1813)\n",
      "('for', 1602)\n",
      "('battery', 1539)\n",
      "('small', 1532)\n",
      "('the', 1531)\n",
      "('a', 1464)\n",
      "('&', 1452)\n",
      "\n",
      "There are 20512 more positive word tokens than negative word tokens.\n",
      "\n",
      "Con frequency of \",\": 0.07651288680617274\n",
      "Pro frequency of \",\": 0.15827945306474847\n",
      "Con frequency of \"battery\": 0.012221593816487571\n",
      "Pro frequency of \"battery\": 0.007464822207239762\n",
      "Con frequency of \"!\": 0.008483477417791064\n",
      "Pro frequency of \"!\": 0.008915102805007591\n"
     ]
    }
   ],
   "source": [
    "print(\"Top 20 Negative Words:\")\n",
    "for x in conFreq.most_common(20):\n",
    "    print(x)\n",
    "print(\"\\nTop 20 Positive Words:\")\n",
    "for x in proFreq.most_common(20):\n",
    "    print(x)\n",
    "\n",
    "print(\"\\nThere are \" + str(len(protoks)-len(contoks)) + \" more positive word tokens than negative word tokens.\\n\")\n",
    "\n",
    "print(\"Con frequency of \\\",\\\":\", conFreq.freq(\",\"))\n",
    "print(\"Pro frequency of \\\",\\\":\", proFreq.freq(\",\"))\n",
    "\n",
    "print(\"Con frequency of \\\"battery\\\":\", conFreq.freq(\"battery\"))\n",
    "print(\"Pro frequency of \\\"battery\\\":\", proFreq.freq(\"battery\"))\n",
    "\n",
    "print(\"Con frequency of \\\"!\\\":\", conFreq.freq(\"!\"))\n",
    "print(\"Pro frequency of \\\"!\\\":\", proFreq.freq(\"!\"))"
   ]
  },
  {
   "cell_type": "code",
   "execution_count": null,
   "metadata": {
    "collapsed": true
   },
   "outputs": [],
   "source": []
  }
 ],
 "metadata": {
  "kernelspec": {
   "display_name": "Python 3",
   "language": "python",
   "name": "python3"
  },
  "language_info": {
   "codemirror_mode": {
    "name": "ipython",
    "version": 3
   },
   "file_extension": ".py",
   "mimetype": "text/x-python",
   "name": "python",
   "nbconvert_exporter": "python",
   "pygments_lexer": "ipython3",
   "version": "3.6.1"
  }
 },
 "nbformat": 4,
 "nbformat_minor": 2
}
