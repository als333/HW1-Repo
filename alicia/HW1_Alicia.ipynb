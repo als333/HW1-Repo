{
 "cells": [
  {
   "cell_type": "code",
   "execution_count": 4,
   "metadata": {
    "collapsed": true
   },
   "outputs": [],
   "source": [
    "# Alicia Sigmon, als333@pitt.edu, 9/2/2017\n",
    "\n",
    "# Names Corpus, Version 1.3\n",
    "# Authors: Mark Kantrowitz and Bill Ross\n",
    "# https://raw.githubusercontent.com/nltk/nltk_data/gh-pages/packages/corpora/names.zip\n",
    "# size: 21326, 55KB, 2 txt files\n",
    "# License: you are allowed to use the names lists as long as the source is cited for published works.\n",
    "    # The lists can be redistributed but copyright is still given to Mark Kantrowitz\n",
    "# The corpus is split into 2 files: one for girls' names and one for boys' names. The names are listed back to back\n",
    "    # and each begins with a capital letter"
   ]
  },
  {
   "cell_type": "code",
   "execution_count": 5,
   "metadata": {
    "collapsed": true
   },
   "outputs": [],
   "source": [
    "# 3. a. Summary of code, how you addressed the \"discovery\"\n",
    "# 3. b. Future wish"
   ]
  },
  {
   "cell_type": "code",
   "execution_count": null,
   "metadata": {
    "collapsed": true
   },
   "outputs": [],
   "source": []
  }
 ],
 "metadata": {
  "kernelspec": {
   "display_name": "Python 3",
   "language": "python",
   "name": "python3"
  },
  "language_info": {
   "codemirror_mode": {
    "name": "ipython",
    "version": 3
   },
   "file_extension": ".py",
   "mimetype": "text/x-python",
   "name": "python",
   "nbconvert_exporter": "python",
   "pygments_lexer": "ipython3",
   "version": "3.6.1"
  }
 },
 "nbformat": 4,
 "nbformat_minor": 2
}
