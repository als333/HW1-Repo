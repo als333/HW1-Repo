{
 "cells": [
  {
   "cell_type": "code",
   "execution_count": 4,
   "metadata": {
    "collapsed": true
   },
   "outputs": [],
   "source": [
    "# Alicia Sigmon, als333@pitt.edu, 9/2/2017\n",
    "\n",
    "# Corpus: Pros and Cons\n",
    "# Author: Bing Luu\n",
    "# https://raw.githubusercontent.com/nltk/nltk_data/gh-pages/packages/corpora/pros_cons.zip\n",
    "# size: 746276, 2 txt files: 1381 KB and 1471 KB\n",
    "# format: corpus (2 files)\n",
    "# License: Creative Commons Attribution 4.0 International\n",
    "# The corpus's 2 files are of positive and negative reviews of technology products"
   ]
  },
  {
   "cell_type": "code",
   "execution_count": 5,
   "metadata": {
    "collapsed": true
   },
   "outputs": [],
   "source": [
    "# 3. a. Summary of code, how you addressed the \"discovery\"\n",
    "# 3. b. Future wish"
   ]
  },
  {
   "cell_type": "code",
   "execution_count": 9,
   "metadata": {},
   "outputs": [
    {
     "name": "stdout",
     "output_type": "stream",
     "text": [
      " \n"
     ]
    }
   ],
   "source": [
    "file = open(\"data/IntegratedCons.txt\")\n",
    "constxt = file.read()\n",
    "file.close()\n",
    "\n",
    "file = open(\"data/IntegratedPros.txt\")\n",
    "prostxt = file.read()\n",
    "file.close()"
   ]
  },
  {
   "cell_type": "code",
   "execution_count": 13,
   "metadata": {},
   "outputs": [
    {
     "name": "stdout",
     "output_type": "stream",
     "text": [
      "        <Cons>East batteries! On-off switch too easy to maneuver.</Cons>\n",
      "        <Cons>Eats...no, GU\n",
      "        <Pros>Easy to use, economical!</Pros>\n",
      "        <Pros>Digital is where it's at...down with dev\n"
     ]
    }
   ],
   "source": [
    "print(constxt[:100])\n",
    "print(prostxt[:100])"
   ]
  },
  {
   "cell_type": "code",
   "execution_count": null,
   "metadata": {
    "collapsed": true
   },
   "outputs": [],
   "source": []
  }
 ],
 "metadata": {
  "kernelspec": {
   "display_name": "Python 3",
   "language": "python",
   "name": "python3"
  },
  "language_info": {
   "codemirror_mode": {
    "name": "ipython",
    "version": 3
   },
   "file_extension": ".py",
   "mimetype": "text/x-python",
   "name": "python",
   "nbconvert_exporter": "python",
   "pygments_lexer": "ipython3",
   "version": "3.6.1"
  }
 },
 "nbformat": 4,
 "nbformat_minor": 2
}
