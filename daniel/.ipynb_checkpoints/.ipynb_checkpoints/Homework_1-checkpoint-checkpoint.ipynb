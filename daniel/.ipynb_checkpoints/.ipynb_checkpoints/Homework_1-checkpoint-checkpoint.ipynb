{
 "cells": [
  {
   "cell_type": "markdown",
   "metadata": {},
   "source": [
    "### LING1340 Homework 1\n",
    "Name: **Daniel Zheng**\n",
    "\n",
    "Email: **daniel.zheng@pitt.edu**\n",
    "\n",
    "Date: **September 3, 2017**\n",
    "\n",
    "#### Dataset\n",
    "Large Movie Review Dataset from [here](http://ai.stanford.edu/~amaas/data/sentiment/).\n",
    "\n",
    "Andrew L. Maas, Raymond E. Daly, Peter T. Pham, Dan Huang, Andrew Y. Ng, and Christopher Potts. (2011). Learning Word Vectors for Sentiment Analysis. *The 49th Annual Meeting of the Association for Computational Linguistics (ACL 2011).*"
   ]
  },
  {
   "cell_type": "code",
   "execution_count": 3,
   "metadata": {
    "collapsed": true
   },
   "outputs": [],
   "source": [
    "# useful libraries\n",
    "import numpy as np\n",
    "import pandas as pd\n",
    "from nltk.tokenize import word_tokenize\n",
    "import re\n",
    "from nltk import FreqDist, ngrams, pos_tag\n",
    "from nltk.stem import WordNetLemmatizer\n",
    "import glob\n"
   ]
  },
  {
   "cell_type": "code",
   "execution_count": 4,
   "metadata": {
    "collapsed": true
   },
   "outputs": [],
   "source": [
    "# looking at some data\n",
    "\n",
    "train_neg_files = glob.glob('data/aclImdb/train/neg/*')\n",
    "train_pos_files = glob.glob('data/aclImdb/train/pos/*')\n",
    "train_neg = []\n",
    "train_pos = []\n",
    "for neg, pos in zip(train_neg_files, train_pos_files):\n",
    "    with open(neg) as f:\n",
    "        train_neg.append(f.read())\n",
    "    with open(pos) as f:   \n",
    "        train_pos.append(f.read())"
   ]
  },
  {
   "cell_type": "code",
   "execution_count": 5,
   "metadata": {},
   "outputs": [
    {
     "name": "stdout",
     "output_type": "stream",
     "text": [
      "['Yes, he is! ...No, not because of Pintilie likes to undress his actors and show publicly their privies. Pintilie IS THE naked \"emperor\" - so to speak...<br /><br />It\\'s big time for someone to state the truth. This impostor is a voyeur, a brat locked in an old man\\'s body. His abundance of nude scenes have no artistic legitimacy whatsoever. It is 100% visual perversion: he gets his kicks by making the actors strip in the buff and look at their willies. And if he does this in front of the audience, he might eve get a hard-on! Did you know that, on the set of \"Niki Ardelean\", he used to embarrass poor Coca Bloss, by telling her: \"Oh, Coca, how I wanna f*** you!\"? She is a great lady, very decent and sensitive, and she became unspeakably ashamed - to his petty satisfaction! And, as a worrying alarm signal about the degree of vulgarity and lack of education in Romanian audiences, so many people are still so foolish to declare these visual obscenities \"works of art\"! Will anyone have ever the decency to expose the truth of it all?', \"This is one of those movies that appears on cable at like two in the afternoon to entertain bored housewives while they iron. The acting is second rate. Poor Mathew Modine seems to sleepwalk through the whole film. And god help Gina Gershon. Her accent is too over the top. It sounds nothing like an true English woman. It sounds forced and phony, much like her acting. She should stick to what she does best, lesbian showgirl con-artist who plays in a rock & roll band and has a drug problem. The other characters are no better. They are two dimensional. empty, vapid and silly. How are we to supposed to care about these people. At one point Christy Scott Cashman get's lost in Central Park. Really? It's not that hard to navigate Central Park. Just follow any path out. Not only did I not care about ANY of the characters,I downright hated them. The only reason I even stayed with this train-wreck of a film was Fisher Stevens. Even his brilliant humor couldn't save this dying Fish. Each scene is typical romantic comedy fare and nothing is left to surprise us. The script was awful as was the acting. If you catch this Fish throw it back!\"]\n"
     ]
    }
   ],
   "source": [
    "print(train_neg[:2])"
   ]
  },
  {
   "cell_type": "code",
   "execution_count": 6,
   "metadata": {},
   "outputs": [
    {
     "name": "stdout",
     "output_type": "stream",
     "text": [
      "['The movie \"MacArthur\" begins and ends at Gen. Douglas MacArthur\\'s, Gregory Peck, Alma Mata the US Military Academy of West Point on the Hudson. We see a frail 82 year old Gen.MacArthur give the commencement speech to the graduating class of 1962 about what an honor it is to serve their country. The film then goes into an almost two hour long flashback on Gen. MacArthur\\'s brilliant as well as controversial career that starts in the darkest hours of WWII on the besieged island of Corregidor in the Philippines in the early spring of 1942.<br /><br />Told to leave he island for Australia before the Japanese military invade it Gen. MacArthur for the very first time in his military career almost disobeys a direct order from his superior US President Franklin D. Roosevelt, Dan O\\'Herlihy. Feeling that he\\'ll be deserting his men at their greatest hour of need MacArthur reluctantly, together with his wife and young son, did what he was told only to have it haunt him for the reminder of the war. It was that reason, his escape under fire from death or captivity by the Japanese, that drove Gen. MacArthur to use all his influence to get FDR two years later to launch a major invasion of the Philippians, instead of the island of Formosa, to back up his promise to both the Philippine people as well as the thousands of US POWS left behind. That he\\'ll return and return with the might of the US Army & Navy to back up his pledge!<br /><br />In the two years up until the invasion of the Philippine Islands Gen. MacArther battered the Japanese forces in the South Pafific in a number of brilliantly conceived island hop battles that isolated and starved hundreds of thousands of Japanese troops into surrender. The General did that suffering far less US Military losses then any other allied commander in the War in the Pacific! <br /><br />It was in 1950/51 in the Korean War that Gen. MacArthur achieved his most brilliant victory as well as his worst military defeat. After outflanking the advancing North Korean Army in the brilliant and perfectly executed, with the invading US Marines suffering less then 100 casualties, back door or left hook invasion of Inchon Gen. MacArther feeling invincible sent the US/UN forces under his command to the very border, along the Yalu River, of Communist Red China. Told by his subordinates that he\\'s facing the threat of a massive ground attack by Communist Chinese troops Gen. MacArthur pressed on anyway until that attack did materialized cutting the US & UN forces to ribbons. The unstoppable wave after wave of attacking Red Chinese troops forced the US/UN forces to retreat in the \"Big Bug Out\" of 1950 with their very lives, leaving all their equipment behind, across the North Korean border even abandoning the South Korean capital city of Seoul! This turned out to be one of the biggest military disaster in US history with the US forces losing a record, in the Korean War, 1,000 lives on the very first day-Nov. 29/30 1950-of the Communist Chinese invasion!<br /><br />Shocked and humiliated in what he allowed, due mostly to his own arrogance, to happened MacArthur went on the offensive not against the advancing Communist Chinese and Noth Koreans forces but his own Commander and Chief Pres. Harry S. Truman, Ed Flanders, in him not having the spin or guts to do what has to be done: Launch a full scale invasion of Communist China with nuclear weapons if necessary to prevent its troops from overrunning the Korean Peninsula! For Pres. Truman who had taken just about enough garbage from Gen. MacArthur in him running off his mouth in public in how he was mishandling the war in not going all out, like MacArthur wanted him to, against the Red Chinese this was the last straw! On April 11, 1951 Pres. Truman unceremoniously relived Gen. MacArthur from his command as Supreme Commander of the US/UN forces in Korea! Pres. Truman\\'s brave but very unpopular decision also, by not going along with MacArthur\\'s total war strategy, prevented a Third World War from breaking out with the Soviet Union-Communist China\\'s ally- who at the time-like the US-had the Atomic Bomb! Pres. Truman\\'\\'s controversial decision to dump the very popular Gen. MacArthur also cost him his re-election in 1952 with his polls numbers so low-in the mid 20\\'s- that he withdrew-in March of that year- from the US Presidential Campaign!<br /><br />In was Gen. MacArthur\\'s misfortune to be around when the political and military climates in the world were changing in how to conduct future wars. With the horrors of a nuclear war now, in 1950/51, a reality it would have been national suicide to go all out, like Gen. MacArthur wanted to, against the Red Chinese with it very possibly touching off a nuclear holocaust that would engulf not only the US USSR & Red China but the entire world! It was that important reality of future war that Gen. MacArthur was never taught, since the A and H Bomb weren\\'t yet invented, in West Point.<br /><br />Back to 1962 we can now see that Gen. MacArthur, after finishing his commencement speech at West Point, had become both an older and wiser soldier as well as , since his retirement from the US Military, elder statesman in his feeling about war and the utter futility of it. One thing that Gen. MacArthur was taught at an early age, from his Civil War General dad Douglas MacArthur Sr, that stuck to him all his life was that to a soldier like himself war should be the very last-not first-resort in settling issues between nations. In that it\\'s the soldiers who have to fight and die in it. It took a lifetime, with the advent of the nuclear age, for Gen. MacArthur to finally realize just how right and wise his dad a Congressional Medal of Honor winner, like himself, really was!', 'I ran across this movie at the local video store during their yearly sidewalk sale. While scanning thousands of videos, hoping to find a few cartoon movies for sale, I came across this movie. I read the back of the movie and knew it was God\\'s hand at work for me to purchase this movie. You see, I have a sibling group of three foster (and soon to be adopted) children living with my family. Immediately my foster children made a connection with the three children starring in the movie. The movie helped them better understand their own circumstances. For the first time, also, the oldest of the sibling group (7 year old/female) decided to open up to me a little bit about her past and the trauma she had experienced. She has been fighting the entire trust issue. This is also the first time I had seen her cry. After watching the film, I asked her what it meant for a child to be adopted. She replied, \"It means to be happy.\" A must see for families who are fostering children and are considering adoption. It certainly opened the lines of communication with us.']\n"
     ]
    }
   ],
   "source": [
    "print(train_pos[:2])"
   ]
  },
  {
   "cell_type": "markdown",
   "metadata": {},
   "source": [
    "### Description of Data\n",
    "There are train and test sets of data. Within `train` and `test`, there is a `neg` and `pos` folder each with 12,500 negative and positive samples. In the `train` folder there is also a folder called `unsup` with 50,000 examples for unsupervised learning.\n",
    "\n",
    "### Processing\n",
    "A lot of the data contains \"<br>\" tags from HTML, which will have to be cleaned up. I will attempt to weight using tf-idf and train a classifier with the word2vec library. For movie reviews being positive, I have a feeling adjectives are the most important, "
   ]
  },
  {
   "cell_type": "code",
   "execution_count": 9,
   "metadata": {
    "collapsed": true
   },
   "outputs": [],
   "source": [
    "# first clean up data\n"
   ]
  },
  {
   "cell_type": "code",
   "execution_count": null,
   "metadata": {
    "collapsed": true
   },
   "outputs": [],
   "source": []
  }
 ],
 "metadata": {
  "kernelspec": {
   "display_name": "Python 3",
   "language": "python",
   "name": "python3"
  },
  "language_info": {
   "codemirror_mode": {
    "name": "ipython",
    "version": 2
   },
   "file_extension": ".py",
   "mimetype": "text/x-python",
   "name": "python",
   "nbconvert_exporter": "python",
   "pygments_lexer": "ipython2",
   "version": "2.7.12"
  }
 },
 "nbformat": 4,
 "nbformat_minor": 2
}
