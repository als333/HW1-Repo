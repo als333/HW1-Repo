{
 "cells": [
  {
   "cell_type": "markdown",
   "metadata": {},
   "source": [
    "# Homework 1"
   ]
  },
  {
   "cell_type": "markdown",
   "metadata": {
    "collapsed": true
   },
   "source": [
    "Christopher Lagunilla  \n",
    "CJL71@pitt.edu  \n",
    "Due September 5, 2017  \n",
    "\n",
    "# Corpus Information\n",
    "Corpus Name: The Complete Works of William Shakespeare  \n",
    "Host: Project Gutenberg [[download link]](https://www.gutenberg.org/ebooks/100)  \n",
    "Makeup: UTF-8 File, containing the entire complete works of William Shakespeare in plaintext\n",
    "License Information: Project Gutenberg License; most books provided are no longer protected by U.S. Copyright Law  \n"
   ]
  },
  {
   "cell_type": "code",
   "execution_count": null,
   "metadata": {
    "collapsed": true
   },
   "outputs": [],
   "source": []
  }
 ],
 "metadata": {
  "kernelspec": {
   "display_name": "Python 3",
   "language": "python",
   "name": "python3"
  },
  "language_info": {
   "codemirror_mode": {
    "name": "ipython",
    "version": 3
   },
   "file_extension": ".py",
   "mimetype": "text/x-python",
   "name": "python",
   "nbconvert_exporter": "python",
   "pygments_lexer": "ipython3",
   "version": "3.6.1"
  }
 },
 "nbformat": 4,
 "nbformat_minor": 2
}
