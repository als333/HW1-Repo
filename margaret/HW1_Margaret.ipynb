{
 "cells": [
  {
   "cell_type": "markdown",
   "metadata": {},
   "source": [
    "# Personal Info  \n",
    "Margaret Jones  \n",
    "mmj32@pitt.edu  \n",
    "September 3, 2017  \n",
    "  \n",
    "# Data Set Info  \n",
    "Name: Harry Potter and the Sorcerers Stone  \n",
    "Author: J.K. Rowling  \n",
    "URL: http://www2.sdfi.edu.cn/netclass/jiaoan/englit/download/Harry%20Potter%20and%20the%20Sorcerer's%20Stone.pdf  \n",
    "Format: Book"
   ]
  },
  {
   "cell_type": "markdown",
   "metadata": {},
   "source": [
    "# Self Assessment  \n",
    "A summary of what your code does and how you addressed your \"discovery\" question  \n",
    "  \n",
    "A future wish: something that you would have liked to be able to do with this data set but do not know how at the moment."
   ]
  },
  {
   "cell_type": "code",
   "execution_count": null,
   "metadata": {
    "collapsed": true
   },
   "outputs": [],
   "source": []
  }
 ],
 "metadata": {
  "kernelspec": {
   "display_name": "Python 3",
   "language": "python",
   "name": "python3"
  },
  "language_info": {
   "codemirror_mode": {
    "name": "ipython",
    "version": 3
   },
   "file_extension": ".py",
   "mimetype": "text/x-python",
   "name": "python",
   "nbconvert_exporter": "python",
   "pygments_lexer": "ipython3",
   "version": "3.6.1"
  }
 },
 "nbformat": 4,
 "nbformat_minor": 2
}
