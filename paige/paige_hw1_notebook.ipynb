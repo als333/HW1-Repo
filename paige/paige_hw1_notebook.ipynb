{
 "cells": [
  {
   "cell_type": "markdown",
   "metadata": {},
   "source": [
    "\n",
    "### Information\n",
    "\n",
    "Paige Haring\n",
    "\n",
    "peh40@pitt.edu\n",
    "\n",
    "September 1, 2017\n",
    "\n",
    "**Name:** Genesis Corpus\n",
    "\n",
    "**Authors:** N/A\n",
    "\n",
    "**Download URL:** http://www.nltk.org/nltk_data/\n",
    "\n",
    "**Makeup:** This corpus consists of 8 text files of written data, specifically, each file is a translation of the Book of Genesis. The 8 translations include: English- King James Bible, English- World English Bible, Finnish, French, German, lolcat, Portuguese, and Swedish. \n",
    "\n",
    "**License:** Public Domain\n",
    "\n",
    "**Noteworthy:** Of these translations, all represent a spoken human language except for lolcat, which is essentially a meme language \"spoken\" by cats on the internet."
   ]
  },
  {
   "cell_type": "markdown",
   "metadata": {},
   "source": [
    "### Self-Assessment\n",
    "**Summary:**\n",
    "\n",
    "**Future Wish:**"
   ]
  },
  {
   "cell_type": "code",
   "execution_count": 37,
   "metadata": {},
   "outputs": [
    {
     "name": "stdout",
     "output_type": "stream",
     "text": [
      "There are 9 files in the corpus!\n",
      "README has 138 words, 4 sents\n",
      "english-kjv.txt has 44764 words, 1467 sents\n",
      "english-web.txt has 44054 words, 2232 sents\n",
      "finnish.txt has 32520 words, 2160 sents\n",
      "french.txt has 46116 words, 2004 sents\n",
      "german.txt has 43941 words, 1900 sents\n",
      "lolcat.txt has 17096 words, 821 sents\n",
      "portuguese.txt has 51349 words, 1669 sents\n",
      "swedish.txt has 55950 words, 1386 sents\n",
      "There is a total of 335928 words and 13643 sents in the entire corpus.\n"
     ]
    }
   ],
   "source": [
    "from nltk.corpus import PlaintextCorpusReader\n",
    "\n",
    "corpus_root = 'data/genesis'\n",
    "\n",
    "#Encoding is latin-1 because utf-8 couldn't read in any of the files besides the two English and the lolcats\n",
    "gens = PlaintextCorpusReader(corpus_root, '.*', encoding = 'latin-1')\n",
    "\n",
    "print('There are',len(gens.fileids()),'files in the corpus!')\n",
    "\n",
    "for f in gens.fileids():\n",
    "    print(f, 'has', len(gens.words(f)), 'words,', len(gens.sents(f)), 'sents')\n",
    "    \n",
    "print('There is a total of', len(gens.words()), 'words and', len(gens.sents()), 'sents in the entire corpus.')\n",
    "\n"
   ]
  },
  {
   "cell_type": "code",
   "execution_count": null,
   "metadata": {
    "collapsed": true
   },
   "outputs": [],
   "source": []
  }
 ],
 "metadata": {
  "kernelspec": {
   "display_name": "Python 3",
   "language": "python",
   "name": "python3"
  },
  "language_info": {
   "codemirror_mode": {
    "name": "ipython",
    "version": 3
   },
   "file_extension": ".py",
   "mimetype": "text/x-python",
   "name": "python",
   "nbconvert_exporter": "python",
   "pygments_lexer": "ipython3",
   "version": "3.6.1"
  }
 },
 "nbformat": 4,
 "nbformat_minor": 2
}
