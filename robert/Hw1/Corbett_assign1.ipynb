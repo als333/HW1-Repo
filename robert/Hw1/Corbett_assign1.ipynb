{
 "cells": [
  {
   "cell_type": "markdown",
   "metadata": {},
   "source": [
    "Robert Corbett  -  \n",
    "rwc27@pitt.edu  - \n",
    "9/4/17\n",
    "\n",
    "Words Lists  -  \n",
    "http://www.nltk.org/nltk_data/  -  \n",
    "author/copyright: public domain\n",
    "\n",
    "235886 English words in alphabetical order"
   ]
  },
  {
   "cell_type": "code",
   "execution_count": 82,
   "metadata": {},
   "outputs": [],
   "source": [
    "import numpy as np"
   ]
  },
  {
   "cell_type": "code",
   "execution_count": 83,
   "metadata": {
    "scrolled": true
   },
   "outputs": [],
   "source": [
    "data = np.loadtxt('data/words/en', dtype = str)"
   ]
  },
  {
   "cell_type": "markdown",
   "metadata": {},
   "source": [
    "Length of array"
   ]
  },
  {
   "cell_type": "code",
   "execution_count": 84,
   "metadata": {},
   "outputs": [
    {
     "name": "stdout",
     "output_type": "stream",
     "text": [
      "235886\n"
     ]
    }
   ],
   "source": [
    "print(len(data))"
   ]
  },
  {
   "cell_type": "markdown",
   "metadata": {},
   "source": [
    "All elements begin with \"b'\""
   ]
  },
  {
   "cell_type": "code",
   "execution_count": 85,
   "metadata": {},
   "outputs": [
    {
     "name": "stdout",
     "output_type": "stream",
     "text": [
      "[\"b'A'\" \"b'a'\" \"b'aa'\" \"b'aal'\" \"b'aalii'\" \"b'aam'\" \"b'Aani'\" \"b'aardvark'\"\n",
      " \"b'aardwolf'\" \"b'Aaron'\" \"b'Aaronic'\" \"b'Aaronical'\" \"b'Aaronite'\"\n",
      " \"b'Aaronitic'\" \"b'Aaru'\" \"b'Ab'\" \"b'aba'\" \"b'Ababdeh'\" \"b'Ababua'\"\n",
      " \"b'abac'\" \"b'abaca'\" \"b'abacate'\" \"b'abacay'\" \"b'abacinate'\"\n",
      " \"b'abacination'\" \"b'abaciscus'\" \"b'abacist'\" \"b'aback'\" \"b'abactinal'\"\n",
      " \"b'abactinally'\" \"b'abaction'\" \"b'abactor'\" \"b'abaculus'\" \"b'abacus'\"\n",
      " \"b'Abadite'\" \"b'abaff'\" \"b'abaft'\" \"b'abaisance'\" \"b'abaiser'\"\n",
      " \"b'abaissed'\" \"b'abalienate'\" \"b'abalienation'\" \"b'abalone'\" \"b'Abama'\"\n",
      " \"b'abampere'\" \"b'abandon'\" \"b'abandonable'\" \"b'abandoned'\"\n",
      " \"b'abandonedly'\" \"b'abandonee'\"]\n"
     ]
    }
   ],
   "source": [
    "print(data[0:50])"
   ]
  },
  {
   "cell_type": "code",
   "execution_count": 86,
   "metadata": {},
   "outputs": [
    {
     "name": "stdout",
     "output_type": "stream",
     "text": [
      "[\"b'beefer'\" \"b'beefhead'\" \"b'beefheaded'\" \"b'beefily'\" \"b'beefin'\"\n",
      " \"b'beefiness'\" \"b'beefish'\" \"b'beefishness'\" \"b'beefless'\" \"b'beeflower'\"\n",
      " \"b'beefsteak'\" \"b'beeftongue'\" \"b'beefwood'\" \"b'beefy'\" \"b'beegerite'\"\n",
      " \"b'beehead'\" \"b'beeheaded'\" \"b'beeherd'\" \"b'beehive'\" \"b'beehouse'\"\n",
      " \"b'beeish'\" \"b'beeishness'\" \"b'beek'\" \"b'beekeeper'\" \"b'beekeeping'\"\n",
      " \"b'beekite'\" \"b'Beekmantown'\" \"b'beelbow'\" \"b'beelike'\" \"b'beeline'\"\n",
      " \"b'beelol'\" \"b'Beelzebub'\" \"b'Beelzebubian'\" \"b'Beelzebul'\" \"b'beeman'\"\n",
      " \"b'beemaster'\" \"b'been'\" \"b'beennut'\" \"b'beer'\" \"b'beerage'\"\n",
      " \"b'beerbachite'\" \"b'beerbibber'\" \"b'beerhouse'\" \"b'beerily'\"\n",
      " \"b'beeriness'\" \"b'beerish'\" \"b'beerishly'\" \"b'beermaker'\" \"b'beermaking'\"\n",
      " \"b'beermonger'\"]\n"
     ]
    }
   ],
   "source": [
    "print(data[20000:20050])"
   ]
  },
  {
   "cell_type": "code",
   "execution_count": 87,
   "metadata": {},
   "outputs": [
    {
     "name": "stdout",
     "output_type": "stream",
     "text": [
      "[\"b'commenter'\" \"b'commerce'\" \"b'commerceless'\" \"b'commercer'\"\n",
      " \"b'commerciable'\" \"b'commercial'\" \"b'commercialism'\" \"b'commercialist'\"\n",
      " \"b'commercialistic'\" \"b'commerciality'\" \"b'commercialization'\"\n",
      " \"b'commercialize'\" \"b'commercially'\" \"b'commercium'\" \"b'commerge'\"\n",
      " \"b'commie'\" \"b'comminate'\" \"b'commination'\" \"b'comminative'\"\n",
      " \"b'comminator'\" \"b'comminatory'\" \"b'commingle'\" \"b'comminglement'\"\n",
      " \"b'commingler'\" \"b'comminister'\" \"b'comminuate'\" \"b'comminute'\"\n",
      " \"b'comminution'\" \"b'comminutor'\" \"b'Commiphora'\" \"b'commiserable'\"\n",
      " \"b'commiserate'\" \"b'commiseratingly'\" \"b'commiseration'\"\n",
      " \"b'commiserative'\" \"b'commiseratively'\" \"b'commiserator'\" \"b'commissar'\"\n",
      " \"b'commissarial'\" \"b'commissariat'\" \"b'commissary'\" \"b'commissaryship'\"\n",
      " \"b'commission'\" \"b'commissionaire'\" \"b'commissional'\" \"b'commissionate'\"\n",
      " \"b'commissioner'\" \"b'commissionership'\" \"b'commissionship'\"\n",
      " \"b'commissive'\"]\n"
     ]
    }
   ],
   "source": [
    "print(data[40000:40050])"
   ]
  }
 ],
 "metadata": {
  "kernelspec": {
   "display_name": "Python 3",
   "language": "python",
   "name": "python3"
  },
  "language_info": {
   "codemirror_mode": {
    "name": "ipython",
    "version": 3
   },
   "file_extension": ".py",
   "mimetype": "text/x-python",
   "name": "python",
   "nbconvert_exporter": "python",
   "pygments_lexer": "ipython3",
   "version": "3.6.1"
  }
 },
 "nbformat": 4,
 "nbformat_minor": 2
}
